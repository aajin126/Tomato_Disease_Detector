{
  "nbformat": 4,
  "nbformat_minor": 0,
  "metadata": {
    "colab": {
      "provenance": []
    },
    "kernelspec": {
      "name": "python3",
      "display_name": "Python 3"
    },
    "language_info": {
      "name": "python"
    }
  },
  "cells": [
    {
      "cell_type": "code",
      "execution_count": null,
      "metadata": {
        "id": "ASykdExsrD-t"
      },
      "outputs": [],
      "source": [
        "import os\n",
        "import glob\n",
        "import json\n",
        "import warnings\n",
        "warnings.filterwarnings(\"ignore\")"
      ]
    },
    {
      "cell_type": "code",
      "execution_count": null,
      "metadata": {
        "colab": {
          "base_uri": "https://localhost:8080/"
        },
        "id": "y6k7AAtFyTGE",
        "outputId": "b5ae7c0f-6e71-425d-e125-c94cf7dc13c3"
      },
      "outputs": [
        {
          "output_type": "stream",
          "name": "stdout",
          "text": [
            "Mounted at /content/drive\n"
          ]
        }
      ],
      "source": [
        "# 드라이브 마운트\n",
        "from google.colab import drive\n",
        "drive.mount(\"/content/drive\", force_remount=True)"
      ]
    },
    {
      "cell_type": "markdown",
      "source": [
        "### Train Data"
      ],
      "metadata": {
        "id": "yu0zqU1Jrabb"
      }
    },
    {
      "cell_type": "code",
      "execution_count": null,
      "metadata": {
        "colab": {
          "base_uri": "https://localhost:8080/"
        },
        "id": "tfzLvJzA0I6m",
        "outputId": "2ffadc98-a249-4ccf-af84-f61d916a5461"
      },
      "outputs": [
        {
          "data": {
            "text/plain": [
              "22174"
            ]
          },
          "execution_count": 4,
          "metadata": {},
          "output_type": "execute_result"
        }
      ],
      "source": [
        "train_json_list = glob.glob('/content/drive/MyDrive/tomato/dataset_root/train/label_json_aug/*.json')\n",
        "len(train_json_list)"
      ]
    },
    {
      "cell_type": "code",
      "execution_count": null,
      "metadata": {
        "colab": {
          "base_uri": "https://localhost:8080/"
        },
        "id": "4M-AJV7NwUAw",
        "outputId": "d7fd6db7-aa46-4d8a-d26e-6b70bf8d711a"
      },
      "outputs": [
        {
          "data": {
            "text/plain": [
              "2564"
            ]
          },
          "execution_count": 4,
          "metadata": {},
          "output_type": "execute_result"
        }
      ],
      "source": [
        "tr_json_list = glob.glob('/content/drive/MyDrive/tomato/dataset_root/train/label_jsons/*.json')\n",
        "len(tr_json_list)"
      ]
    },
    {
      "cell_type": "code",
      "source": [
        "xtls = []\n",
        "ytls = []\n",
        "xbrs = []\n",
        "ybrs = []\n",
        "image_path = []\n",
        "class_names = []\n",
        "\n",
        "def get_annotation_csv(data) :\n",
        "\n",
        "  for i in range(len(tr_json_list)) :\n",
        "    with open(tr_json_list[i],'r') as f :\n",
        "      json_file = json.load(f)\n",
        "      xtl = json_file['annotations']['points'][0]['xtl']\n",
        "      ytl = json_file['annotations']['points'][0]['ytl']\n",
        "      xbr = json_file['annotations']['points'][0]['xbr']\n",
        "      ybr = json_file['annotations']['points'][0]['ybr']\n",
        "\n",
        "      xtls.append(xtl)\n",
        "      ytls.append(ytl)\n",
        "      xbrs.append(xbr)\n",
        "      ybrs.append(ybr)\n",
        "\n",
        "\n",
        "      path = '/content/drive/MyDrive/tomato/dataset_root/'+data+'/images'\n",
        "      img = json_file['description']['image']\n",
        "      img_path = path + '/' + img\n",
        "      image_path.append(img_path)\n",
        "\n",
        "      if json_file['annotations']['disease'] == 19 :\n",
        "        class_name = 'disease2'\n",
        "\n",
        "      elif json_file['annotations']['disease'] == 18 :\n",
        "        class_name = 'disease1'\n",
        "      else :\n",
        "        class_name = 'normal'\n",
        "      class_names.append(class_name)\n",
        "\n",
        "  #return xtls, ytls, xbrs, ybrs, image_path, class_names"
      ],
      "metadata": {
        "id": "F6BEuoqJrUQR"
      },
      "execution_count": null,
      "outputs": []
    },
    {
      "cell_type": "code",
      "source": [
        "get_annotation_csv('train')"
      ],
      "metadata": {
        "id": "Na2txqxZrV2_"
      },
      "execution_count": null,
      "outputs": []
    },
    {
      "cell_type": "code",
      "execution_count": null,
      "metadata": {
        "colab": {
          "base_uri": "https://localhost:8080/",
          "height": 487
        },
        "id": "NlDhSODoQW9C",
        "outputId": "d530da3a-0072-4287-8a7d-28055b50dfcb"
      },
      "outputs": [
        {
          "data": {
            "text/html": [
              "\n",
              "  <div id=\"df-f8e28b37-a178-4c77-bf87-01b202a679d9\">\n",
              "    <div class=\"colab-df-container\">\n",
              "      <div>\n",
              "<style scoped>\n",
              "    .dataframe tbody tr th:only-of-type {\n",
              "        vertical-align: middle;\n",
              "    }\n",
              "\n",
              "    .dataframe tbody tr th {\n",
              "        vertical-align: top;\n",
              "    }\n",
              "\n",
              "    .dataframe thead th {\n",
              "        text-align: right;\n",
              "    }\n",
              "</style>\n",
              "<table border=\"1\" class=\"dataframe\">\n",
              "  <thead>\n",
              "    <tr style=\"text-align: right;\">\n",
              "      <th></th>\n",
              "      <th>path/to/image.jpg</th>\n",
              "      <th>x1</th>\n",
              "      <th>y1</th>\n",
              "      <th>x2</th>\n",
              "      <th>y2</th>\n",
              "      <th>class_name</th>\n",
              "    </tr>\n",
              "  </thead>\n",
              "  <tbody>\n",
              "    <tr>\n",
              "      <th>0</th>\n",
              "      <td>/content/drive/MyDrive/tomato/dataset_root/tra...</td>\n",
              "      <td>1232</td>\n",
              "      <td>552</td>\n",
              "      <td>3156</td>\n",
              "      <td>2400</td>\n",
              "      <td>disease1</td>\n",
              "    </tr>\n",
              "    <tr>\n",
              "      <th>1</th>\n",
              "      <td>/content/drive/MyDrive/tomato/dataset_root/tra...</td>\n",
              "      <td>1696</td>\n",
              "      <td>1024</td>\n",
              "      <td>3232</td>\n",
              "      <td>2384</td>\n",
              "      <td>disease1</td>\n",
              "    </tr>\n",
              "    <tr>\n",
              "      <th>2</th>\n",
              "      <td>/content/drive/MyDrive/tomato/dataset_root/tra...</td>\n",
              "      <td>640</td>\n",
              "      <td>668</td>\n",
              "      <td>3776</td>\n",
              "      <td>2924</td>\n",
              "      <td>disease1</td>\n",
              "    </tr>\n",
              "    <tr>\n",
              "      <th>3</th>\n",
              "      <td>/content/drive/MyDrive/tomato/dataset_root/tra...</td>\n",
              "      <td>633</td>\n",
              "      <td>0</td>\n",
              "      <td>2006</td>\n",
              "      <td>1237</td>\n",
              "      <td>disease1</td>\n",
              "    </tr>\n",
              "    <tr>\n",
              "      <th>4</th>\n",
              "      <td>/content/drive/MyDrive/tomato/dataset_root/tra...</td>\n",
              "      <td>869</td>\n",
              "      <td>1132</td>\n",
              "      <td>3385</td>\n",
              "      <td>2476</td>\n",
              "      <td>disease1</td>\n",
              "    </tr>\n",
              "    <tr>\n",
              "      <th>...</th>\n",
              "      <td>...</td>\n",
              "      <td>...</td>\n",
              "      <td>...</td>\n",
              "      <td>...</td>\n",
              "      <td>...</td>\n",
              "      <td>...</td>\n",
              "    </tr>\n",
              "    <tr>\n",
              "      <th>2559</th>\n",
              "      <td>/content/drive/MyDrive/tomato/dataset_root/tra...</td>\n",
              "      <td>2253</td>\n",
              "      <td>1570</td>\n",
              "      <td>3196</td>\n",
              "      <td>2248</td>\n",
              "      <td>disease2</td>\n",
              "    </tr>\n",
              "    <tr>\n",
              "      <th>2560</th>\n",
              "      <td>/content/drive/MyDrive/tomato/dataset_root/tra...</td>\n",
              "      <td>1347</td>\n",
              "      <td>1396</td>\n",
              "      <td>2615</td>\n",
              "      <td>2648</td>\n",
              "      <td>disease2</td>\n",
              "    </tr>\n",
              "    <tr>\n",
              "      <th>2561</th>\n",
              "      <td>/content/drive/MyDrive/tomato/dataset_root/tra...</td>\n",
              "      <td>192</td>\n",
              "      <td>349</td>\n",
              "      <td>2582</td>\n",
              "      <td>1905</td>\n",
              "      <td>disease2</td>\n",
              "    </tr>\n",
              "    <tr>\n",
              "      <th>2562</th>\n",
              "      <td>/content/drive/MyDrive/tomato/dataset_root/tra...</td>\n",
              "      <td>1654</td>\n",
              "      <td>1076</td>\n",
              "      <td>2687</td>\n",
              "      <td>1676</td>\n",
              "      <td>disease2</td>\n",
              "    </tr>\n",
              "    <tr>\n",
              "      <th>2563</th>\n",
              "      <td>/content/drive/MyDrive/tomato/dataset_root/tra...</td>\n",
              "      <td>1828</td>\n",
              "      <td>461</td>\n",
              "      <td>2006</td>\n",
              "      <td>850</td>\n",
              "      <td>disease2</td>\n",
              "    </tr>\n",
              "  </tbody>\n",
              "</table>\n",
              "<p>2564 rows × 6 columns</p>\n",
              "</div>\n",
              "      <button class=\"colab-df-convert\" onclick=\"convertToInteractive('df-f8e28b37-a178-4c77-bf87-01b202a679d9')\"\n",
              "              title=\"Convert this dataframe to an interactive table.\"\n",
              "              style=\"display:none;\">\n",
              "        \n",
              "  <svg xmlns=\"http://www.w3.org/2000/svg\" height=\"24px\"viewBox=\"0 0 24 24\"\n",
              "       width=\"24px\">\n",
              "    <path d=\"M0 0h24v24H0V0z\" fill=\"none\"/>\n",
              "    <path d=\"M18.56 5.44l.94 2.06.94-2.06 2.06-.94-2.06-.94-.94-2.06-.94 2.06-2.06.94zm-11 1L8.5 8.5l.94-2.06 2.06-.94-2.06-.94L8.5 2.5l-.94 2.06-2.06.94zm10 10l.94 2.06.94-2.06 2.06-.94-2.06-.94-.94-2.06-.94 2.06-2.06.94z\"/><path d=\"M17.41 7.96l-1.37-1.37c-.4-.4-.92-.59-1.43-.59-.52 0-1.04.2-1.43.59L10.3 9.45l-7.72 7.72c-.78.78-.78 2.05 0 2.83L4 21.41c.39.39.9.59 1.41.59.51 0 1.02-.2 1.41-.59l7.78-7.78 2.81-2.81c.8-.78.8-2.07 0-2.86zM5.41 20L4 18.59l7.72-7.72 1.47 1.35L5.41 20z\"/>\n",
              "  </svg>\n",
              "      </button>\n",
              "      \n",
              "  <style>\n",
              "    .colab-df-container {\n",
              "      display:flex;\n",
              "      flex-wrap:wrap;\n",
              "      gap: 12px;\n",
              "    }\n",
              "\n",
              "    .colab-df-convert {\n",
              "      background-color: #E8F0FE;\n",
              "      border: none;\n",
              "      border-radius: 50%;\n",
              "      cursor: pointer;\n",
              "      display: none;\n",
              "      fill: #1967D2;\n",
              "      height: 32px;\n",
              "      padding: 0 0 0 0;\n",
              "      width: 32px;\n",
              "    }\n",
              "\n",
              "    .colab-df-convert:hover {\n",
              "      background-color: #E2EBFA;\n",
              "      box-shadow: 0px 1px 2px rgba(60, 64, 67, 0.3), 0px 1px 3px 1px rgba(60, 64, 67, 0.15);\n",
              "      fill: #174EA6;\n",
              "    }\n",
              "\n",
              "    [theme=dark] .colab-df-convert {\n",
              "      background-color: #3B4455;\n",
              "      fill: #D2E3FC;\n",
              "    }\n",
              "\n",
              "    [theme=dark] .colab-df-convert:hover {\n",
              "      background-color: #434B5C;\n",
              "      box-shadow: 0px 1px 3px 1px rgba(0, 0, 0, 0.15);\n",
              "      filter: drop-shadow(0px 1px 2px rgba(0, 0, 0, 0.3));\n",
              "      fill: #FFFFFF;\n",
              "    }\n",
              "  </style>\n",
              "\n",
              "      <script>\n",
              "        const buttonEl =\n",
              "          document.querySelector('#df-f8e28b37-a178-4c77-bf87-01b202a679d9 button.colab-df-convert');\n",
              "        buttonEl.style.display =\n",
              "          google.colab.kernel.accessAllowed ? 'block' : 'none';\n",
              "\n",
              "        async function convertToInteractive(key) {\n",
              "          const element = document.querySelector('#df-f8e28b37-a178-4c77-bf87-01b202a679d9');\n",
              "          const dataTable =\n",
              "            await google.colab.kernel.invokeFunction('convertToInteractive',\n",
              "                                                     [key], {});\n",
              "          if (!dataTable) return;\n",
              "\n",
              "          const docLinkHtml = 'Like what you see? Visit the ' +\n",
              "            '<a target=\"_blank\" href=https://colab.research.google.com/notebooks/data_table.ipynb>data table notebook</a>'\n",
              "            + ' to learn more about interactive tables.';\n",
              "          element.innerHTML = '';\n",
              "          dataTable['output_type'] = 'display_data';\n",
              "          await google.colab.output.renderOutput(dataTable, element);\n",
              "          const docLink = document.createElement('div');\n",
              "          docLink.innerHTML = docLinkHtml;\n",
              "          element.appendChild(docLink);\n",
              "        }\n",
              "      </script>\n",
              "    </div>\n",
              "  </div>\n",
              "  "
            ],
            "text/plain": [
              "                                      path/to/image.jpg    x1    y1    x2  \\\n",
              "0     /content/drive/MyDrive/tomato/dataset_root/tra...  1232   552  3156   \n",
              "1     /content/drive/MyDrive/tomato/dataset_root/tra...  1696  1024  3232   \n",
              "2     /content/drive/MyDrive/tomato/dataset_root/tra...   640   668  3776   \n",
              "3     /content/drive/MyDrive/tomato/dataset_root/tra...   633     0  2006   \n",
              "4     /content/drive/MyDrive/tomato/dataset_root/tra...   869  1132  3385   \n",
              "...                                                 ...   ...   ...   ...   \n",
              "2559  /content/drive/MyDrive/tomato/dataset_root/tra...  2253  1570  3196   \n",
              "2560  /content/drive/MyDrive/tomato/dataset_root/tra...  1347  1396  2615   \n",
              "2561  /content/drive/MyDrive/tomato/dataset_root/tra...   192   349  2582   \n",
              "2562  /content/drive/MyDrive/tomato/dataset_root/tra...  1654  1076  2687   \n",
              "2563  /content/drive/MyDrive/tomato/dataset_root/tra...  1828   461  2006   \n",
              "\n",
              "        y2 class_name  \n",
              "0     2400   disease1  \n",
              "1     2384   disease1  \n",
              "2     2924   disease1  \n",
              "3     1237   disease1  \n",
              "4     2476   disease1  \n",
              "...    ...        ...  \n",
              "2559  2248   disease2  \n",
              "2560  2648   disease2  \n",
              "2561  1905   disease2  \n",
              "2562  1676   disease2  \n",
              "2563   850   disease2  \n",
              "\n",
              "[2564 rows x 6 columns]"
            ]
          },
          "execution_count": 11,
          "metadata": {},
          "output_type": "execute_result"
        }
      ],
      "source": [
        "import pandas as pd\n",
        "\n",
        "train_annotation = pd.DataFrame({'path/to/image.jpg' : image_path, 'x1' : xtls, 'y1' : ytls, 'x2' : xbrs, 'y2' : ybrs, 'class_name' : class_names})\n",
        "train_annotation"
      ]
    },
    {
      "cell_type": "code",
      "source": [
        "train_annotation.to_csv('train_annotation.csv',index=False)"
      ],
      "metadata": {
        "id": "tzF2dI2rrZSo"
      },
      "execution_count": null,
      "outputs": []
    },
    {
      "cell_type": "markdown",
      "source": [
        "### Validation Data"
      ],
      "metadata": {
        "id": "S6npHDilrcCy"
      }
    },
    {
      "cell_type": "code",
      "execution_count": null,
      "metadata": {
        "colab": {
          "base_uri": "https://localhost:8080/"
        },
        "id": "4bvSb81uP2Rj",
        "outputId": "5a6d09cc-432c-42a5-92a7-e4a6c47d9b4c"
      },
      "outputs": [
        {
          "data": {
            "text/plain": [
              "296"
            ]
          },
          "execution_count": 44,
          "metadata": {},
          "output_type": "execute_result"
        }
      ],
      "source": [
        "val_json_list = glob.glob('/content/drive/MyDrive/tomato/dataset_root/val/label_json/*.json')\n",
        "len(val_json_list)"
      ]
    },
    {
      "cell_type": "code",
      "source": [
        "get_annotation_csv('val')"
      ],
      "metadata": {
        "id": "v422IaQ-sbd7"
      },
      "execution_count": null,
      "outputs": []
    },
    {
      "cell_type": "code",
      "execution_count": null,
      "metadata": {
        "colab": {
          "base_uri": "https://localhost:8080/",
          "height": 487
        },
        "id": "3JIuXGtTQxe2",
        "outputId": "0675965c-7fd5-46f5-a4ff-ae8fb29ccfb4"
      },
      "outputs": [
        {
          "data": {
            "text/html": [
              "\n",
              "  <div id=\"df-9f885c07-229c-4cf1-9791-5f082b91aee2\">\n",
              "    <div class=\"colab-df-container\">\n",
              "      <div>\n",
              "<style scoped>\n",
              "    .dataframe tbody tr th:only-of-type {\n",
              "        vertical-align: middle;\n",
              "    }\n",
              "\n",
              "    .dataframe tbody tr th {\n",
              "        vertical-align: top;\n",
              "    }\n",
              "\n",
              "    .dataframe thead th {\n",
              "        text-align: right;\n",
              "    }\n",
              "</style>\n",
              "<table border=\"1\" class=\"dataframe\">\n",
              "  <thead>\n",
              "    <tr style=\"text-align: right;\">\n",
              "      <th></th>\n",
              "      <th>path/to/image.jpg</th>\n",
              "      <th>x1</th>\n",
              "      <th>y1</th>\n",
              "      <th>x2</th>\n",
              "      <th>y2</th>\n",
              "      <th>class_name</th>\n",
              "    </tr>\n",
              "  </thead>\n",
              "  <tbody>\n",
              "    <tr>\n",
              "      <th>0</th>\n",
              "      <td>/content/drive/MyDrive/dataset_root/val/images...</td>\n",
              "      <td>724</td>\n",
              "      <td>789</td>\n",
              "      <td>2682</td>\n",
              "      <td>1908</td>\n",
              "      <td>disease1</td>\n",
              "    </tr>\n",
              "    <tr>\n",
              "      <th>1</th>\n",
              "      <td>/content/drive/MyDrive/dataset_root/val/images...</td>\n",
              "      <td>769</td>\n",
              "      <td>307</td>\n",
              "      <td>4032</td>\n",
              "      <td>2564</td>\n",
              "      <td>disease1</td>\n",
              "    </tr>\n",
              "    <tr>\n",
              "      <th>2</th>\n",
              "      <td>/content/drive/MyDrive/dataset_root/val/images...</td>\n",
              "      <td>730</td>\n",
              "      <td>658</td>\n",
              "      <td>1940</td>\n",
              "      <td>3128</td>\n",
              "      <td>disease2</td>\n",
              "    </tr>\n",
              "    <tr>\n",
              "      <th>3</th>\n",
              "      <td>/content/drive/MyDrive/dataset_root/val/images...</td>\n",
              "      <td>804</td>\n",
              "      <td>786</td>\n",
              "      <td>3225</td>\n",
              "      <td>2667</td>\n",
              "      <td>disease1</td>\n",
              "    </tr>\n",
              "    <tr>\n",
              "      <th>4</th>\n",
              "      <td>/content/drive/MyDrive/dataset_root/val/images...</td>\n",
              "      <td>888</td>\n",
              "      <td>0</td>\n",
              "      <td>3671</td>\n",
              "      <td>1908</td>\n",
              "      <td>disease1</td>\n",
              "    </tr>\n",
              "    <tr>\n",
              "      <th>...</th>\n",
              "      <td>...</td>\n",
              "      <td>...</td>\n",
              "      <td>...</td>\n",
              "      <td>...</td>\n",
              "      <td>...</td>\n",
              "      <td>...</td>\n",
              "    </tr>\n",
              "    <tr>\n",
              "      <th>291</th>\n",
              "      <td>/content/drive/MyDrive/dataset_root/val/images...</td>\n",
              "      <td>450</td>\n",
              "      <td>760</td>\n",
              "      <td>2096</td>\n",
              "      <td>2210</td>\n",
              "      <td>normal</td>\n",
              "    </tr>\n",
              "    <tr>\n",
              "      <th>292</th>\n",
              "      <td>/content/drive/MyDrive/dataset_root/val/images...</td>\n",
              "      <td>810</td>\n",
              "      <td>517</td>\n",
              "      <td>2323</td>\n",
              "      <td>2663</td>\n",
              "      <td>normal</td>\n",
              "    </tr>\n",
              "    <tr>\n",
              "      <th>293</th>\n",
              "      <td>/content/drive/MyDrive/dataset_root/val/images...</td>\n",
              "      <td>735</td>\n",
              "      <td>561</td>\n",
              "      <td>1985</td>\n",
              "      <td>2458</td>\n",
              "      <td>normal</td>\n",
              "    </tr>\n",
              "    <tr>\n",
              "      <th>294</th>\n",
              "      <td>/content/drive/MyDrive/dataset_root/val/images...</td>\n",
              "      <td>618</td>\n",
              "      <td>1262</td>\n",
              "      <td>2300</td>\n",
              "      <td>3418</td>\n",
              "      <td>normal</td>\n",
              "    </tr>\n",
              "    <tr>\n",
              "      <th>295</th>\n",
              "      <td>/content/drive/MyDrive/dataset_root/val/images...</td>\n",
              "      <td>658</td>\n",
              "      <td>965</td>\n",
              "      <td>2948</td>\n",
              "      <td>3115</td>\n",
              "      <td>normal</td>\n",
              "    </tr>\n",
              "  </tbody>\n",
              "</table>\n",
              "<p>296 rows × 6 columns</p>\n",
              "</div>\n",
              "      <button class=\"colab-df-convert\" onclick=\"convertToInteractive('df-9f885c07-229c-4cf1-9791-5f082b91aee2')\"\n",
              "              title=\"Convert this dataframe to an interactive table.\"\n",
              "              style=\"display:none;\">\n",
              "        \n",
              "  <svg xmlns=\"http://www.w3.org/2000/svg\" height=\"24px\"viewBox=\"0 0 24 24\"\n",
              "       width=\"24px\">\n",
              "    <path d=\"M0 0h24v24H0V0z\" fill=\"none\"/>\n",
              "    <path d=\"M18.56 5.44l.94 2.06.94-2.06 2.06-.94-2.06-.94-.94-2.06-.94 2.06-2.06.94zm-11 1L8.5 8.5l.94-2.06 2.06-.94-2.06-.94L8.5 2.5l-.94 2.06-2.06.94zm10 10l.94 2.06.94-2.06 2.06-.94-2.06-.94-.94-2.06-.94 2.06-2.06.94z\"/><path d=\"M17.41 7.96l-1.37-1.37c-.4-.4-.92-.59-1.43-.59-.52 0-1.04.2-1.43.59L10.3 9.45l-7.72 7.72c-.78.78-.78 2.05 0 2.83L4 21.41c.39.39.9.59 1.41.59.51 0 1.02-.2 1.41-.59l7.78-7.78 2.81-2.81c.8-.78.8-2.07 0-2.86zM5.41 20L4 18.59l7.72-7.72 1.47 1.35L5.41 20z\"/>\n",
              "  </svg>\n",
              "      </button>\n",
              "      \n",
              "  <style>\n",
              "    .colab-df-container {\n",
              "      display:flex;\n",
              "      flex-wrap:wrap;\n",
              "      gap: 12px;\n",
              "    }\n",
              "\n",
              "    .colab-df-convert {\n",
              "      background-color: #E8F0FE;\n",
              "      border: none;\n",
              "      border-radius: 50%;\n",
              "      cursor: pointer;\n",
              "      display: none;\n",
              "      fill: #1967D2;\n",
              "      height: 32px;\n",
              "      padding: 0 0 0 0;\n",
              "      width: 32px;\n",
              "    }\n",
              "\n",
              "    .colab-df-convert:hover {\n",
              "      background-color: #E2EBFA;\n",
              "      box-shadow: 0px 1px 2px rgba(60, 64, 67, 0.3), 0px 1px 3px 1px rgba(60, 64, 67, 0.15);\n",
              "      fill: #174EA6;\n",
              "    }\n",
              "\n",
              "    [theme=dark] .colab-df-convert {\n",
              "      background-color: #3B4455;\n",
              "      fill: #D2E3FC;\n",
              "    }\n",
              "\n",
              "    [theme=dark] .colab-df-convert:hover {\n",
              "      background-color: #434B5C;\n",
              "      box-shadow: 0px 1px 3px 1px rgba(0, 0, 0, 0.15);\n",
              "      filter: drop-shadow(0px 1px 2px rgba(0, 0, 0, 0.3));\n",
              "      fill: #FFFFFF;\n",
              "    }\n",
              "  </style>\n",
              "\n",
              "      <script>\n",
              "        const buttonEl =\n",
              "          document.querySelector('#df-9f885c07-229c-4cf1-9791-5f082b91aee2 button.colab-df-convert');\n",
              "        buttonEl.style.display =\n",
              "          google.colab.kernel.accessAllowed ? 'block' : 'none';\n",
              "\n",
              "        async function convertToInteractive(key) {\n",
              "          const element = document.querySelector('#df-9f885c07-229c-4cf1-9791-5f082b91aee2');\n",
              "          const dataTable =\n",
              "            await google.colab.kernel.invokeFunction('convertToInteractive',\n",
              "                                                     [key], {});\n",
              "          if (!dataTable) return;\n",
              "\n",
              "          const docLinkHtml = 'Like what you see? Visit the ' +\n",
              "            '<a target=\"_blank\" href=https://colab.research.google.com/notebooks/data_table.ipynb>data table notebook</a>'\n",
              "            + ' to learn more about interactive tables.';\n",
              "          element.innerHTML = '';\n",
              "          dataTable['output_type'] = 'display_data';\n",
              "          await google.colab.output.renderOutput(dataTable, element);\n",
              "          const docLink = document.createElement('div');\n",
              "          docLink.innerHTML = docLinkHtml;\n",
              "          element.appendChild(docLink);\n",
              "        }\n",
              "      </script>\n",
              "    </div>\n",
              "  </div>\n",
              "  "
            ],
            "text/plain": [
              "                                     path/to/image.jpg   x1    y1    x2    y2  \\\n",
              "0    /content/drive/MyDrive/dataset_root/val/images...  724   789  2682  1908   \n",
              "1    /content/drive/MyDrive/dataset_root/val/images...  769   307  4032  2564   \n",
              "2    /content/drive/MyDrive/dataset_root/val/images...  730   658  1940  3128   \n",
              "3    /content/drive/MyDrive/dataset_root/val/images...  804   786  3225  2667   \n",
              "4    /content/drive/MyDrive/dataset_root/val/images...  888     0  3671  1908   \n",
              "..                                                 ...  ...   ...   ...   ...   \n",
              "291  /content/drive/MyDrive/dataset_root/val/images...  450   760  2096  2210   \n",
              "292  /content/drive/MyDrive/dataset_root/val/images...  810   517  2323  2663   \n",
              "293  /content/drive/MyDrive/dataset_root/val/images...  735   561  1985  2458   \n",
              "294  /content/drive/MyDrive/dataset_root/val/images...  618  1262  2300  3418   \n",
              "295  /content/drive/MyDrive/dataset_root/val/images...  658   965  2948  3115   \n",
              "\n",
              "    class_name  \n",
              "0     disease1  \n",
              "1     disease1  \n",
              "2     disease2  \n",
              "3     disease1  \n",
              "4     disease1  \n",
              "..         ...  \n",
              "291     normal  \n",
              "292     normal  \n",
              "293     normal  \n",
              "294     normal  \n",
              "295     normal  \n",
              "\n",
              "[296 rows x 6 columns]"
            ]
          },
          "execution_count": 60,
          "metadata": {},
          "output_type": "execute_result"
        }
      ],
      "source": [
        "val_annot = pd.DataFrame({'path/to/image.jpg' : image_path, 'x1' : xtls, 'y1' : ytls, 'x2' : xbrs, 'y2' : ybrs, 'class_name' : class_names})\n",
        "val_annot"
      ]
    },
    {
      "cell_type": "code",
      "source": [
        "val_annot.to_csv('test_annotation.csv',index=False)"
      ],
      "metadata": {
        "id": "1DxFT3FUsgun"
      },
      "execution_count": null,
      "outputs": []
    },
    {
      "cell_type": "markdown",
      "source": [
        "### class 정보"
      ],
      "metadata": {
        "id": "D6lUwzLXspp9"
      }
    },
    {
      "cell_type": "code",
      "source": [
        "class_txt_path = 'classes.txt'\n",
        "\n",
        "def save_class_format(path=\"classes.txt\"):\n",
        "    class_type_map = {\n",
        "        \"normal\" : 0,\n",
        "        \"disease1\": 1,\n",
        "        'disease2' : 2,\n",
        "    }\n",
        "    with open(path, mode='w', encoding='utf-8') as f:\n",
        "        for k, v in class_type_map.items():\n",
        "            f.write(f\"{k},{v}\\n\")\n",
        "\n",
        "save_class_format(class_txt_path)"
      ],
      "metadata": {
        "id": "mZb3KI9ssq0W"
      },
      "execution_count": null,
      "outputs": []
    }
  ]
}